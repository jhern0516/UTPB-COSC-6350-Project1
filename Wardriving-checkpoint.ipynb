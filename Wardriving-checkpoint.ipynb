{
 "cells": [
  {
   "cell_type": "code",
   "execution_count": 1,
   "id": "b4ca57d9-9e6a-4803-b2f5-d8db76d875ad",
   "metadata": {},
   "outputs": [],
   "source": [
    "import pandas as pd\n",
    "import folium\n",
    "df = pd.read_csv('C:/Users/jhern/Downloads/Capture1.csv', delimiter = ',', encoding='latin-1', header=1)\n",
    "\n",
    "mymap = folium.Map( location=[ df.CurrentLatitude.mean(), df.CurrentLongitude.mean() ], zoom_start=12)\n",
    "\n",
    "for coord in df[['CurrentLatitude','CurrentLongitude', 'SSID', 'Type', 'MAC']].values:\n",
    "    if (coord[3] == 'WIFI'):\n",
    "        folium.CircleMarker(location=[coord[0],coord[1]], radius=1,color='red', popup=[\"SSID:\", coord[2], \"BSSID:\", coord[4]]).add_to(mymap)\n",
    "        \n",
    "mymap.save('AllAPs.html')"
   ]
  },
  {
   "cell_type": "code",
   "execution_count": 2,
   "id": "79fe359f-8a45-4c1e-9535-bdba481af2ea",
   "metadata": {},
   "outputs": [
    {
     "data": {
      "text/html": [
       "<iframe width=\"60%\" height=\"450\" src=\"AllAPs.html\"></iframe>\n"
      ],
      "text/plain": [
       "<IPython.core.display.HTML object>"
      ]
     },
     "metadata": {},
     "output_type": "display_data"
    }
   ],
   "source": [
    "%%HTML\n",
    "<iframe width=\"60%\" height=\"450\" src=\"AllAPs.html\"></iframe>"
   ]
  },
  {
   "cell_type": "code",
   "execution_count": 3,
   "id": "8e24f794-6ec3-4197-9b53-a15ed932f8bb",
   "metadata": {},
   "outputs": [],
   "source": [
    "import pandas as pd\n",
    "import folium  \n",
    "df = pd.read_csv('C:/Users/jhern/Downloads/Capture1.csv', delimiter = ',', encoding='latin-1', header=1)\n",
    "\n",
    "mymap = folium.Map( location=[ df.CurrentLatitude.mean(), df.CurrentLongitude.mean() ], zoom_start=12)\n",
    "\n",
    "for coord in df[['CurrentLatitude','CurrentLongitude', 'SSID', 'Type', 'MAC', 'AuthMode']].values:\n",
    "    if (coord[3] == 'WIFI' and 'WPA2' in coord[5]):\n",
    "        folium.CircleMarker(location=[coord[0],coord[1]], radius=1,color='blue', popup=[\"SSID:\", coord[2], \"BSSID:\", coord[4]]).add_to(mymap)\n",
    "\n",
    "mymap.save('WPA2.html')"
   ]
  },
  {
   "cell_type": "code",
   "execution_count": 4,
   "id": "524cf047-df6b-464b-95c0-d738cc97f2d6",
   "metadata": {},
   "outputs": [
    {
     "data": {
      "text/html": [
       "<iframe width=\"60%\" height=\"450\" src=\"WPA2.html\"></iframe>\n"
      ],
      "text/plain": [
       "<IPython.core.display.HTML object>"
      ]
     },
     "metadata": {},
     "output_type": "display_data"
    }
   ],
   "source": [
    "%%HTML\n",
    "<iframe width=\"60%\" height=\"450\" src=\"WPA2.html\"></iframe>"
   ]
  },
  {
   "cell_type": "code",
   "execution_count": 11,
   "id": "bcf30a9f-0cc9-4b78-85de-a7c3360a5b8a",
   "metadata": {},
   "outputs": [],
   "source": [
    "import pandas as pd\n",
    "import folium  \n",
    "df = pd.read_csv('C:/Users/jhern/Downloads/Capture1.csv', delimiter = ',', encoding='latin-1', header=1)\n",
    "\n",
    "mymap = folium.Map( location=[ df.CurrentLatitude.mean(), df.CurrentLongitude.mean() ], zoom_start=12)\n",
    "\n",
    "for coord in df[['CurrentLatitude','CurrentLongitude', 'SSID', 'Type', 'MAC', 'AuthMode']].values:\n",
    "    if (coord[3] == 'WIFI' and\n",
    "    'WPA' not in coord[5] and\n",
    "    'SAE' not in coord[5] and\n",
    "    'CCMP' not in coord[5] and\n",
    "    'PSK' not in coord[5]):\n",
    "        folium.CircleMarker(location=[coord[0],coord[1]], radius=1,color='cyan', popup=[\"SSID:\", coord[2], \"BSSID:\", coord[4]]).add_to(mymap)\n",
    "\n",
    "mymap.save('WEP_and_Open.html') "
   ]
  },
  {
   "cell_type": "code",
   "execution_count": 12,
   "id": "85fd3e14-0dbb-4e7f-8174-0070fbe347ab",
   "metadata": {},
   "outputs": [
    {
     "data": {
      "text/html": [
       "<iframe width=\"60%\" height=\"1200\" src=\"WEP_and_Open.html\"></iframe>\n"
      ],
      "text/plain": [
       "<IPython.core.display.HTML object>"
      ]
     },
     "metadata": {},
     "output_type": "display_data"
    }
   ],
   "source": [
    "%%HTML\n",
    "<iframe width=\"60%\" height=\"1200\" src=\"WEP_and_Open.html\"></iframe>"
   ]
  },
  {
   "cell_type": "code",
   "execution_count": 13,
   "id": "99c26eb0-8be9-4999-b53d-dbb323b7422b",
   "metadata": {},
   "outputs": [],
   "source": [
    "import pandas as pd\n",
    "import folium  \n",
    "df = pd.read_csv('C:/Users/jhern/Downloads/Capture1.csv', delimiter = ',', encoding='latin-1', header=1)\n",
    "\n",
    "mymap = folium.Map( location=[ df.CurrentLatitude.mean(), df.CurrentLongitude.mean() ], zoom_start=12)\n",
    "\n",
    "for coord in df[['CurrentLatitude','CurrentLongitude', 'SSID', 'Type', 'MAC', 'AuthMode']].values:\n",
    "    if (coord[3] == 'WIFI' and 'WEP' in coord[5]):\n",
    "        folium.CircleMarker(location=[coord[0],coord[1]], radius=1,color='blue', popup=[\"SSID:\", coord[2], \"BSSID:\", coord[4]]).add_to(mymap)\n",
    "        \n",
    "mymap.save('WEP_Only.html')  "
   ]
  },
  {
   "cell_type": "code",
   "execution_count": 14,
   "id": "6b751000-3a3a-4a82-ad2f-e23b510fd7bf",
   "metadata": {},
   "outputs": [
    {
     "data": {
      "text/html": [
       "<iframe width=\"60%\" height=\"450\" src=\"WEP_Only.html\"></iframe>\n"
      ],
      "text/plain": [
       "<IPython.core.display.HTML object>"
      ]
     },
     "metadata": {},
     "output_type": "display_data"
    }
   ],
   "source": [
    "%%HTML\n",
    "<iframe width=\"60%\" height=\"450\" src=\"WEP_Only.html\"></iframe>"
   ]
  },
  {
   "cell_type": "code",
   "execution_count": 15,
   "id": "aa1213b2-25f6-4570-bad9-577831ef6bc7",
   "metadata": {},
   "outputs": [],
   "source": [
    "import pandas as pd\n",
    "import folium  \n",
    "df = pd.read_csv('C:/Users/jhern/Downloads/Capture1.csv', delimiter = ',', encoding='latin-1', header=1)\n",
    "\n",
    "mymap = folium.Map( location=[ df.CurrentLatitude.mean(), df.CurrentLongitude.mean() ], zoom_start=12)\n",
    "\n",
    "for coord in df[['CurrentLatitude','CurrentLongitude', 'SSID', 'Type', 'MAC', 'AuthMode']].values:\n",
    "    if (coord[3] == 'WIFI' and\n",
    "    'WPA' in coord[5]):\n",
    "        folium.CircleMarker(location=[coord[0],coord[1]], radius=1,color='orange', popup=[\"SSID:\", coord[2], \"BSSID:\", coord[4]]).add_to(mymap)\n",
    "\n",
    "mymap.save('WPA_Only.html')  "
   ]
  },
  {
   "cell_type": "code",
   "execution_count": 16,
   "id": "2c152d04-989b-452b-98f5-f1fa546b5e85",
   "metadata": {},
   "outputs": [
    {
     "data": {
      "text/html": [
       "<iframe width=\"60%\" height=\"1200\" src=\"WPA_Only.html\"></iframe>\n"
      ],
      "text/plain": [
       "<IPython.core.display.HTML object>"
      ]
     },
     "metadata": {},
     "output_type": "display_data"
    }
   ],
   "source": [
    "%%HTML\n",
    "<iframe width=\"60%\" height=\"1200\" src=\"WPA_Only.html\"></iframe>"
   ]
  },
  {
   "cell_type": "code",
   "execution_count": 17,
   "id": "d1405451-4326-4f6b-8c9a-93dcd8c9efd9",
   "metadata": {},
   "outputs": [],
   "source": [
    "import pandas as pd\n",
    "import folium  \n",
    "df = pd.read_csv('C:/Users/jhern/Downloads/Capture1.csv', delimiter = ',', encoding='latin-1', header=1)\n",
    "\n",
    "mymap = folium.Map( location=[ df.CurrentLatitude.mean(), df.CurrentLongitude.mean() ], zoom_start=12)\n",
    "\n",
    "for coord in df[['CurrentLatitude','CurrentLongitude', 'SSID', 'Type', 'MAC', 'AuthMode']].values:\n",
    "    if (coord[3] == 'WIFI' and\n",
    "    'ESS' in coord[5] and\n",
    "    'WPA' not in coord[5] and\n",
    "    'SAE' not in coord[5] and\n",
    "    'CCMP' not in coord[5] and\n",
    "    'PSK' not in coord[5]):\n",
    "        folium.CircleMarker(location=[coord[0],coord[1]], radius=1,color='green', popup=[\"SSID:\", coord[2], \"BSSID:\", coord[4]]).add_to(mymap)\n",
    "\n",
    "mymap.save('Open_ESS_Only.html') "
   ]
  },
  {
   "cell_type": "code",
   "execution_count": 18,
   "id": "3ad85555-6500-42b0-aed0-84b069d99e54",
   "metadata": {},
   "outputs": [
    {
     "data": {
      "text/html": [
       "<iframe width=\"60%\" height=\"1200\" src=\"Open_ESS_Only.html\"></iframe>\n"
      ],
      "text/plain": [
       "<IPython.core.display.HTML object>"
      ]
     },
     "metadata": {},
     "output_type": "display_data"
    }
   ],
   "source": [
    "%%HTML\n",
    "<iframe width=\"60%\" height=\"1200\" src=\"Open_ESS_Only.html\"></iframe>"
   ]
  },
  {
   "cell_type": "code",
   "execution_count": null,
   "id": "ad17dba9-ac89-4ae1-856b-bb531be38784",
   "metadata": {},
   "outputs": [],
   "source": []
  }
 ],
 "metadata": {
  "kernelspec": {
   "display_name": "Python 3 (ipykernel)",
   "language": "python",
   "name": "python3"
  },
  "language_info": {
   "codemirror_mode": {
    "name": "ipython",
    "version": 3
   },
   "file_extension": ".py",
   "mimetype": "text/x-python",
   "name": "python",
   "nbconvert_exporter": "python",
   "pygments_lexer": "ipython3",
   "version": "3.13.0"
  }
 },
 "nbformat": 4,
 "nbformat_minor": 5
}
